{
  "nbformat": 4,
  "nbformat_minor": 0,
  "metadata": {
    "colab": {
      "name": "Calcul_metric.ipynb",
      "provenance": [],
      "collapsed_sections": []
    },
    "kernelspec": {
      "name": "python3",
      "display_name": "Python 3"
    },
    "language_info": {
      "name": "python"
    }
  },
  "cells": [
    {
      "cell_type": "code",
      "source": [
        "# Compute score\n",
        "def centroidScore(self, x1, y1, x2, y2):\n",
        "    \"\"\"Compare the history with another one\"\"\"\n",
        "    return ((x1-x2)**2 + (y1-y2)**2)**0.5"
      ],
      "metadata": {
        "id": "qxALygujbVAM"
      },
      "execution_count": null,
      "outputs": []
    },
    {
      "cell_type": "code",
      "source": [
        "centroid_dist = []\n",
        "\n",
        "while index in range(video.shape[3]-1):\n",
        "  centroid_dist.append(centroidScore(x_gt, y_gt, x_est, y_est))\n",
        "\n",
        "\n",
        "def plot_metric(self, video, centroid_dist):\n",
        "  img_begin = 0\n",
        "  im_end = video.shape[-1]\n",
        "  x = range(img_begin,im_end)\n",
        "  plt.figure(figsize=(17, 6))\n",
        "  plt.plot(x,centroid_dist,marker='o',color='r')\n",
        "  plt.xlim((im_begin+1,im_end))\n",
        "  plt.ylabel('score')\n",
        "  plt.xlabel(\"im\")\n",
        "  plt.grid()\n",
        "  plt.legend(['centroid distance'])\n",
        "  plt.savefig('eval-centroid.png')\n",
        "  plt.show()"
      ],
      "metadata": {
        "id": "czGTqZ79bUwU"
      },
      "execution_count": null,
      "outputs": []
    },
    {
      "cell_type": "code",
      "source": [
        ""
      ],
      "metadata": {
        "id": "AzK-Sfs-iisK"
      },
      "execution_count": null,
      "outputs": []
    }
  ]
}